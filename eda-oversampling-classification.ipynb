{
 "cells": [
  {
   "cell_type": "markdown",
   "metadata": {
    "papermill": {
     "duration": 0.036461,
     "end_time": "2020-09-26T10:14:39.811788",
     "exception": false,
     "start_time": "2020-09-26T10:14:39.775327",
     "status": "completed"
    },
    "tags": []
   },
   "source": [
    "# Task: Predict Health Insurance Owners' who will be interested in Vehicle Insurance\n",
    "\n",
    "An insurance company has provided Health Insurance to its customers now they want a model to predict whether the policyholders (customers) from past year will also be interested in Vehicle Insurance provided by the company.\n",
    "\n",
    "Before building model, let's explore the dataset and get some insights from data."
   ]
  },
  {
   "cell_type": "code",
   "execution_count": 1,
   "metadata": {
    "_cell_guid": "79c7e3d0-c299-4dcb-8224-4455121ee9b0",
    "_kg_hide-input": true,
    "_uuid": "d629ff2d2480ee46fbb7e2d37f6b5fab8052498a",
    "execution": {
     "iopub.execute_input": "2020-09-26T10:14:39.894703Z",
     "iopub.status.busy": "2020-09-26T10:14:39.893911Z",
     "iopub.status.idle": "2020-09-26T10:14:41.937492Z",
     "shell.execute_reply": "2020-09-26T10:14:41.936512Z"
    },
    "papermill": {
     "duration": 2.088975,
     "end_time": "2020-09-26T10:14:41.937641",
     "exception": false,
     "start_time": "2020-09-26T10:14:39.848666",
     "status": "completed"
    },
    "tags": []
   },
   "outputs": [
    {
     "name": "stdout",
     "output_type": "stream",
     "text": [
      "First five rows of training dataset are:\n"
     ]
    },
    {
     "data": {
      "text/html": [
       "<div>\n",
       "<style scoped>\n",
       "    .dataframe tbody tr th:only-of-type {\n",
       "        vertical-align: middle;\n",
       "    }\n",
       "\n",
       "    .dataframe tbody tr th {\n",
       "        vertical-align: top;\n",
       "    }\n",
       "\n",
       "    .dataframe thead th {\n",
       "        text-align: right;\n",
       "    }\n",
       "</style>\n",
       "<table border=\"1\" class=\"dataframe\">\n",
       "  <thead>\n",
       "    <tr style=\"text-align: right;\">\n",
       "      <th></th>\n",
       "      <th>id</th>\n",
       "      <th>Gender</th>\n",
       "      <th>Age</th>\n",
       "      <th>Driving_License</th>\n",
       "      <th>Region_Code</th>\n",
       "      <th>Previously_Insured</th>\n",
       "      <th>Vehicle_Age</th>\n",
       "      <th>Vehicle_Damage</th>\n",
       "      <th>Annual_Premium</th>\n",
       "      <th>Policy_Sales_Channel</th>\n",
       "      <th>Vintage</th>\n",
       "      <th>Response</th>\n",
       "    </tr>\n",
       "  </thead>\n",
       "  <tbody>\n",
       "    <tr>\n",
       "      <th>0</th>\n",
       "      <td>1</td>\n",
       "      <td>Male</td>\n",
       "      <td>44</td>\n",
       "      <td>1</td>\n",
       "      <td>28.0</td>\n",
       "      <td>0</td>\n",
       "      <td>&gt; 2 Years</td>\n",
       "      <td>Yes</td>\n",
       "      <td>40454.0</td>\n",
       "      <td>26.0</td>\n",
       "      <td>217</td>\n",
       "      <td>1</td>\n",
       "    </tr>\n",
       "    <tr>\n",
       "      <th>1</th>\n",
       "      <td>2</td>\n",
       "      <td>Male</td>\n",
       "      <td>76</td>\n",
       "      <td>1</td>\n",
       "      <td>3.0</td>\n",
       "      <td>0</td>\n",
       "      <td>1-2 Year</td>\n",
       "      <td>No</td>\n",
       "      <td>33536.0</td>\n",
       "      <td>26.0</td>\n",
       "      <td>183</td>\n",
       "      <td>0</td>\n",
       "    </tr>\n",
       "    <tr>\n",
       "      <th>2</th>\n",
       "      <td>3</td>\n",
       "      <td>Male</td>\n",
       "      <td>47</td>\n",
       "      <td>1</td>\n",
       "      <td>28.0</td>\n",
       "      <td>0</td>\n",
       "      <td>&gt; 2 Years</td>\n",
       "      <td>Yes</td>\n",
       "      <td>38294.0</td>\n",
       "      <td>26.0</td>\n",
       "      <td>27</td>\n",
       "      <td>1</td>\n",
       "    </tr>\n",
       "    <tr>\n",
       "      <th>3</th>\n",
       "      <td>4</td>\n",
       "      <td>Male</td>\n",
       "      <td>21</td>\n",
       "      <td>1</td>\n",
       "      <td>11.0</td>\n",
       "      <td>1</td>\n",
       "      <td>&lt; 1 Year</td>\n",
       "      <td>No</td>\n",
       "      <td>28619.0</td>\n",
       "      <td>152.0</td>\n",
       "      <td>203</td>\n",
       "      <td>0</td>\n",
       "    </tr>\n",
       "    <tr>\n",
       "      <th>4</th>\n",
       "      <td>5</td>\n",
       "      <td>Female</td>\n",
       "      <td>29</td>\n",
       "      <td>1</td>\n",
       "      <td>41.0</td>\n",
       "      <td>1</td>\n",
       "      <td>&lt; 1 Year</td>\n",
       "      <td>No</td>\n",
       "      <td>27496.0</td>\n",
       "      <td>152.0</td>\n",
       "      <td>39</td>\n",
       "      <td>0</td>\n",
       "    </tr>\n",
       "  </tbody>\n",
       "</table>\n",
       "</div>"
      ],
      "text/plain": [
       "   id  Gender  Age  Driving_License  Region_Code  Previously_Insured  \\\n",
       "0   1    Male   44                1         28.0                   0   \n",
       "1   2    Male   76                1          3.0                   0   \n",
       "2   3    Male   47                1         28.0                   0   \n",
       "3   4    Male   21                1         11.0                   1   \n",
       "4   5  Female   29                1         41.0                   1   \n",
       "\n",
       "  Vehicle_Age Vehicle_Damage  Annual_Premium  Policy_Sales_Channel  Vintage  \\\n",
       "0   > 2 Years            Yes         40454.0                  26.0      217   \n",
       "1    1-2 Year             No         33536.0                  26.0      183   \n",
       "2   > 2 Years            Yes         38294.0                  26.0       27   \n",
       "3    < 1 Year             No         28619.0                 152.0      203   \n",
       "4    < 1 Year             No         27496.0                 152.0       39   \n",
       "\n",
       "   Response  \n",
       "0         1  \n",
       "1         0  \n",
       "2         1  \n",
       "3         0  \n",
       "4         0  "
      ]
     },
     "execution_count": 1,
     "metadata": {},
     "output_type": "execute_result"
    }
   ],
   "source": [
    "import numpy as np\n",
    "import pandas as pd\n",
    "import matplotlib.pyplot as plt\n",
    "import seaborn as sns\n",
    "from sklearn.model_selection import train_test_split\n",
    "from sklearn.linear_model import LogisticRegression\n",
    "from sklearn.metrics import accuracy_score,roc_auc_score\n",
    "%matplotlib inline\n",
    "\n",
    "train=pd.read_csv('../input/health-insurance-cross-sell-prediction/train.csv')\n",
    "#test=pd.read_csv('../input/health-insurance-cross-sell-prediction/test.csv')\n",
    "\n",
    "print(\"First five rows of training dataset are:\")\n",
    "train.head()"
   ]
  },
  {
   "cell_type": "markdown",
   "metadata": {
    "papermill": {
     "duration": 0.037772,
     "end_time": "2020-09-26T10:14:42.013960",
     "exception": false,
     "start_time": "2020-09-26T10:14:41.976188",
     "status": "completed"
    },
    "tags": []
   },
   "source": [
    "Information about columns:\n",
    "\n",
    "* id  -\tUnique ID for the customer\n",
    "* Gender  -\tGender of the customer\n",
    "* Age  - \tAge of the customer\n",
    "* Driving_License  - \t0 : Customer does not have DL, 1 : Customer already has DL\n",
    "* Region_Code  -\tUnique code for the region of the customer\n",
    "* Previously_Insured  -\t1 : Customer already has Vehicle Insurance, 0 : Customer doesn't have Vehicle Insurance\n",
    "* Vehicle_Age  -\tAge of the Vehicle\n",
    "* Vehicle_Damage  -  1 : Customer got his/her vehicle damaged in the past. 0 : Customer didn't get his/her vehicle damaged in the past.\n",
    "* Annual_Premium  -\tThe amount customer needs to pay as premium in the year\n",
    "* PolicySalesChannel  -\tAnonymized Code for the channel of outreaching to the customer ie.,Different Agents, Over Mail, Over Phone, In Person, etc.\n",
    "* Vintage  -\tNumber of Days, Customer has been associated with the company\n",
    "* Response  -\t1 : Customer is interested, 0 : Customer is not interested\n"
   ]
  },
  {
   "cell_type": "markdown",
   "metadata": {
    "papermill": {
     "duration": 0.037909,
     "end_time": "2020-09-26T10:14:42.090350",
     "exception": false,
     "start_time": "2020-09-26T10:14:42.052441",
     "status": "completed"
    },
    "tags": []
   },
   "source": [
    "We are given two csv files in this dataset: train and test. For EDA, I will use only train set.\n",
    "\n",
    "Let's have a look at data types of different columns."
   ]
  },
  {
   "cell_type": "code",
   "execution_count": 2,
   "metadata": {
    "_kg_hide-input": true,
    "execution": {
     "iopub.execute_input": "2020-09-26T10:14:42.172168Z",
     "iopub.status.busy": "2020-09-26T10:14:42.171319Z",
     "iopub.status.idle": "2020-09-26T10:14:42.331127Z",
     "shell.execute_reply": "2020-09-26T10:14:42.332355Z"
    },
    "papermill": {
     "duration": 0.204605,
     "end_time": "2020-09-26T10:14:42.332593",
     "exception": false,
     "start_time": "2020-09-26T10:14:42.127988",
     "status": "completed"
    },
    "tags": []
   },
   "outputs": [
    {
     "name": "stdout",
     "output_type": "stream",
     "text": [
      "<class 'pandas.core.frame.DataFrame'>\n",
      "RangeIndex: 381109 entries, 0 to 381108\n",
      "Data columns (total 12 columns):\n",
      " #   Column                Non-Null Count   Dtype  \n",
      "---  ------                --------------   -----  \n",
      " 0   id                    381109 non-null  int64  \n",
      " 1   Gender                381109 non-null  object \n",
      " 2   Age                   381109 non-null  int64  \n",
      " 3   Driving_License       381109 non-null  int64  \n",
      " 4   Region_Code           381109 non-null  float64\n",
      " 5   Previously_Insured    381109 non-null  int64  \n",
      " 6   Vehicle_Age           381109 non-null  object \n",
      " 7   Vehicle_Damage        381109 non-null  object \n",
      " 8   Annual_Premium        381109 non-null  float64\n",
      " 9   Policy_Sales_Channel  381109 non-null  float64\n",
      " 10  Vintage               381109 non-null  int64  \n",
      " 11  Response              381109 non-null  int64  \n",
      "dtypes: float64(3), int64(6), object(3)\n",
      "memory usage: 34.9+ MB\n"
     ]
    }
   ],
   "source": [
    "train.info()"
   ]
  },
  {
   "cell_type": "code",
   "execution_count": 3,
   "metadata": {
    "_kg_hide-input": true,
    "execution": {
     "iopub.execute_input": "2020-09-26T10:14:42.419231Z",
     "iopub.status.busy": "2020-09-26T10:14:42.418339Z",
     "iopub.status.idle": "2020-09-26T10:14:42.561992Z",
     "shell.execute_reply": "2020-09-26T10:14:42.562640Z"
    },
    "papermill": {
     "duration": 0.190238,
     "end_time": "2020-09-26T10:14:42.562821",
     "exception": false,
     "start_time": "2020-09-26T10:14:42.372583",
     "status": "completed"
    },
    "tags": []
   },
   "outputs": [
    {
     "name": "stdout",
     "output_type": "stream",
     "text": [
      "Train set has 381109 rows and 12 columns.\n",
      "Missing values are present in data: False\n"
     ]
    }
   ],
   "source": [
    "print(f\"Train set has {train.shape[0]} rows and {train.shape[1]} columns.\")\n",
    "print(f\"Missing values are present in data: {train.isnull().sum().any()}\")"
   ]
  },
  {
   "cell_type": "markdown",
   "metadata": {
    "papermill": {
     "duration": 0.040613,
     "end_time": "2020-09-26T10:14:42.643786",
     "exception": false,
     "start_time": "2020-09-26T10:14:42.603173",
     "status": "completed"
    },
    "tags": []
   },
   "source": [
    "# EDA\n",
    "\n",
    "Features Response, Driving_License and Previously_Insured are alreadyencoded in data. For EDA purpose, I am converting these into object type for easy understanding in visualizations."
   ]
  },
  {
   "cell_type": "code",
   "execution_count": 4,
   "metadata": {
    "execution": {
     "iopub.execute_input": "2020-09-26T10:14:42.729549Z",
     "iopub.status.busy": "2020-09-26T10:14:42.728695Z",
     "iopub.status.idle": "2020-09-26T10:14:42.829877Z",
     "shell.execute_reply": "2020-09-26T10:14:42.830600Z"
    },
    "papermill": {
     "duration": 0.14786,
     "end_time": "2020-09-26T10:14:42.830776",
     "exception": false,
     "start_time": "2020-09-26T10:14:42.682916",
     "status": "completed"
    },
    "tags": []
   },
   "outputs": [],
   "source": [
    "train_eda = train.copy()\n",
    "cols=['Driving_License','Previously_Insured','Response']\n",
    "for col in cols:\n",
    "    train_eda[col] = train_eda[col].map({0:'No',1:'Yes'})"
   ]
  },
  {
   "cell_type": "markdown",
   "metadata": {
    "papermill": {
     "duration": 0.038611,
     "end_time": "2020-09-26T10:14:42.908266",
     "exception": false,
     "start_time": "2020-09-26T10:14:42.869655",
     "status": "completed"
    },
    "tags": []
   },
   "source": [
    "## Target variable: Response"
   ]
  },
  {
   "cell_type": "code",
   "execution_count": 5,
   "metadata": {
    "_kg_hide-input": true,
    "execution": {
     "iopub.execute_input": "2020-09-26T10:14:43.017393Z",
     "iopub.status.busy": "2020-09-26T10:14:43.016465Z",
     "iopub.status.idle": "2020-09-26T10:14:43.328590Z",
     "shell.execute_reply": "2020-09-26T10:14:43.327980Z"
    },
    "papermill": {
     "duration": 0.382218,
     "end_time": "2020-09-26T10:14:43.328754",
     "exception": false,
     "start_time": "2020-09-26T10:14:42.946536",
     "status": "completed"
    },
    "tags": []
   },
   "outputs": [
    {
     "data": {
      "image/png": "[encoded data removed]",
      "text/plain": [
       "<Figure size 432x288 with 1 Axes>"
      ]
     },
     "metadata": {
      "needs_background": "light"
     },
     "output_type": "display_data"
    }
   ],
   "source": [
    "sns.countplot(train_eda['Response'],palette='rocket')\n",
    "plt.title(\"Target variable Distribution in data\");"
   ]
  },
  {
   "cell_type": "markdown",
   "metadata": {
    "papermill": {
     "duration": 0.040678,
     "end_time": "2020-09-26T10:14:43.409496",
     "exception": false,
     "start_time": "2020-09-26T10:14:43.368818",
     "status": "completed"
    },
    "tags": []
   },
   "source": [
    "* So, our data is highly imbalanced.\n",
    "\n",
    "> I made two notebooks showing 2 ways to handle imbalanced data. Give them a look:\n",
    "    [down-sampling-majority-class-6-classification-algo](https://www.kaggle.com/ayushikaushik/down-sampling-majority-class-6-classification-algo)\n",
    "    and\n",
    "    [up-sampling-to-tackle-unbalanced-dataset](https://www.kaggle.com/ayushikaushik/up-sampling-to-tackle-unbalanced-dataset)\n",
    "\n",
    "> [Here](https://www.analyticsvidhya.com/blog/2017/03/imbalanced-data-classification/) is a good article to understand problems caused by imbalanced article and ways to handle them.\n",
    "\n",
    "## Gender"
   ]
  },
  {
   "cell_type": "code",
   "execution_count": 6,
   "metadata": {
    "_kg_hide-input": true,
    "execution": {
     "iopub.execute_input": "2020-09-26T10:14:43.524904Z",
     "iopub.status.busy": "2020-09-26T10:14:43.524004Z",
     "iopub.status.idle": "2020-09-26T10:14:43.808753Z",
     "shell.execute_reply": "2020-09-26T10:14:43.808134Z"
    },
    "papermill": {
     "duration": 0.358149,
     "end_time": "2020-09-26T10:14:43.808906",
     "exception": false,
     "start_time": "2020-09-26T10:14:43.450757",
     "status": "completed"
    },
    "tags": []
   },
   "outputs": [
    {
     "data": {
      "image/png": "[encoded data removed]",
      "text/plain": [
       "<Figure size 432x288 with 1 Axes>"
      ]
     },
     "metadata": {
      "needs_background": "light"
     },
     "output_type": "display_data"
    }
   ],
   "source": [
    "sns.countplot(train_eda['Gender'],palette='summer')\n",
    "plt.title(\"Gender Distribution in data\");"
   ]
  },
  {
   "cell_type": "markdown",
   "metadata": {
    "papermill": {
     "duration": 0.040906,
     "end_time": "2020-09-26T10:14:43.891429",
     "exception": false,
     "start_time": "2020-09-26T10:14:43.850523",
     "status": "completed"
    },
    "tags": []
   },
   "source": [
    "* There are more samples of gender male.\n",
    "* Seems as if males are more concerned about health risks.  ;)\n",
    "\n",
    "## Age"
   ]
  },
  {
   "cell_type": "code",
   "execution_count": 7,
   "metadata": {
    "_kg_hide-input": true,
    "execution": {
     "iopub.execute_input": "2020-09-26T10:14:44.004408Z",
     "iopub.status.busy": "2020-09-26T10:14:43.987381Z",
     "iopub.status.idle": "2020-09-26T10:14:45.025140Z",
     "shell.execute_reply": "2020-09-26T10:14:45.024507Z"
    },
    "papermill": {
     "duration": 1.093069,
     "end_time": "2020-09-26T10:14:45.025278",
     "exception": false,
     "start_time": "2020-09-26T10:14:43.932209",
     "status": "completed"
    },
    "tags": []
   },
   "outputs": [
    {
     "name": "stdout",
     "output_type": "stream",
     "text": [
      "Age distribution according to Response\n"
     ]
    },
    {
     "data": {
      "image/png": "[encoded data removed]",
      "text/plain": [
       "<Figure size 919.75x216 with 1 Axes>"
      ]
     },
     "metadata": {
      "needs_background": "light"
     },
     "output_type": "display_data"
    }
   ],
   "source": [
    "print(\"Age distribution according to Response\")\n",
    "facetgrid = sns.FacetGrid(train_eda,hue=\"Response\",aspect = 4)\n",
    "facetgrid.map(sns.kdeplot,\"Age\",shade = True)\n",
    "facetgrid.set(xlim = (0,train_eda[\"Age\"].max()))\n",
    "facetgrid.add_legend();"
   ]
  },
  {
   "cell_type": "markdown",
   "metadata": {
    "papermill": {
     "duration": 0.043545,
     "end_time": "2020-09-26T10:14:45.122768",
     "exception": false,
     "start_time": "2020-09-26T10:14:45.079223",
     "status": "completed"
    },
    "tags": []
   },
   "source": [
    "* Young people below 30 are not interested in vehicle insurance. Reasons could be lack of experience, less maturity level and they don't have expensive vehicles yet.\n",
    "* People aged between 30-60 are more likely to be interested.\n",
    "\n",
    "## Driving License"
   ]
  },
  {
   "cell_type": "code",
   "execution_count": 8,
   "metadata": {
    "execution": {
     "iopub.execute_input": "2020-09-26T10:14:45.215646Z",
     "iopub.status.busy": "2020-09-26T10:14:45.214826Z",
     "iopub.status.idle": "2020-09-26T10:14:45.340954Z",
     "shell.execute_reply": "2020-09-26T10:14:45.340117Z"
    },
    "papermill": {
     "duration": 0.175389,
     "end_time": "2020-09-26T10:14:45.341083",
     "exception": false,
     "start_time": "2020-09-26T10:14:45.165694",
     "status": "completed"
    },
    "tags": []
   },
   "outputs": [
    {
     "data": {
      "text/html": [
       "<div>\n",
       "<style scoped>\n",
       "    .dataframe tbody tr th:only-of-type {\n",
       "        vertical-align: middle;\n",
       "    }\n",
       "\n",
       "    .dataframe tbody tr th {\n",
       "        vertical-align: top;\n",
       "    }\n",
       "\n",
       "    .dataframe thead th {\n",
       "        text-align: right;\n",
       "    }\n",
       "</style>\n",
       "<table border=\"1\" class=\"dataframe\">\n",
       "  <thead>\n",
       "    <tr style=\"text-align: right;\">\n",
       "      <th>Driving_License</th>\n",
       "      <th>No</th>\n",
       "      <th>Yes</th>\n",
       "    </tr>\n",
       "    <tr>\n",
       "      <th>Response</th>\n",
       "      <th></th>\n",
       "      <th></th>\n",
       "    </tr>\n",
       "  </thead>\n",
       "  <tbody>\n",
       "    <tr>\n",
       "      <th>No</th>\n",
       "      <td>771</td>\n",
       "      <td>333628</td>\n",
       "    </tr>\n",
       "    <tr>\n",
       "      <th>Yes</th>\n",
       "      <td>41</td>\n",
       "      <td>46669</td>\n",
       "    </tr>\n",
       "  </tbody>\n",
       "</table>\n",
       "</div>"
      ],
      "text/plain": [
       "Driving_License   No     Yes\n",
       "Response                    \n",
       "No               771  333628\n",
       "Yes               41   46669"
      ]
     },
     "execution_count": 8,
     "metadata": {},
     "output_type": "execute_result"
    }
   ],
   "source": [
    "pd.crosstab(train_eda['Response'], train_eda['Driving_License'])"
   ]
  },
  {
   "cell_type": "markdown",
   "metadata": {
    "papermill": {
     "duration": 0.062321,
     "end_time": "2020-09-26T10:14:45.451360",
     "exception": false,
     "start_time": "2020-09-26T10:14:45.389039",
     "status": "completed"
    },
    "tags": []
   },
   "source": [
    "> ***You should always have driving license while driving***\n",
    "\n",
    "* Here also majority observations have a driving license.\n",
    "\n",
    "\n",
    "## Region-wise Distribution"
   ]
  },
  {
   "cell_type": "code",
   "execution_count": 9,
   "metadata": {
    "execution": {
     "iopub.execute_input": "2020-09-26T10:14:45.558833Z",
     "iopub.status.busy": "2020-09-26T10:14:45.557709Z",
     "iopub.status.idle": "2020-09-26T10:14:46.298386Z",
     "shell.execute_reply": "2020-09-26T10:14:46.298989Z"
    },
    "papermill": {
     "duration": 0.795521,
     "end_time": "2020-09-26T10:14:46.299165",
     "exception": false,
     "start_time": "2020-09-26T10:14:45.503644",
     "status": "completed"
    },
    "tags": []
   },
   "outputs": [
    {
     "data": {
      "image/png": "[encoded data removed]",
      "text/plain": [
       "<Figure size 864x720 with 1 Axes>"
      ]
     },
     "metadata": {
      "needs_background": "light"
     },
     "output_type": "display_data"
    }
   ],
   "source": [
    "train_eda['Region_Code'].value_counts().plot(kind='barh',cmap='Accent',figsize=(12,10));"
   ]
  },
  {
   "cell_type": "markdown",
   "metadata": {
    "papermill": {
     "duration": 0.046755,
     "end_time": "2020-09-26T10:14:46.391585",
     "exception": false,
     "start_time": "2020-09-26T10:14:46.344830",
     "status": "completed"
    },
    "tags": []
   },
   "source": [
    "* Meaning of these codes has not been provided.\n",
    "* Most of the data is collected from people living in region with code 28\n",
    "\n",
    "## Previously-insured"
   ]
  },
  {
   "cell_type": "code",
   "execution_count": 10,
   "metadata": {
    "_kg_hide-input": true,
    "execution": {
     "iopub.execute_input": "2020-09-26T10:14:46.489147Z",
     "iopub.status.busy": "2020-09-26T10:14:46.488284Z",
     "iopub.status.idle": "2020-09-26T10:14:46.608422Z",
     "shell.execute_reply": "2020-09-26T10:14:46.609700Z"
    },
    "papermill": {
     "duration": 0.173595,
     "end_time": "2020-09-26T10:14:46.609921",
     "exception": false,
     "start_time": "2020-09-26T10:14:46.436326",
     "status": "completed"
    },
    "tags": []
   },
   "outputs": [
    {
     "data": {
      "text/html": [
       "<div>\n",
       "<style scoped>\n",
       "    .dataframe tbody tr th:only-of-type {\n",
       "        vertical-align: middle;\n",
       "    }\n",
       "\n",
       "    .dataframe tbody tr th {\n",
       "        vertical-align: top;\n",
       "    }\n",
       "\n",
       "    .dataframe thead th {\n",
       "        text-align: right;\n",
       "    }\n",
       "</style>\n",
       "<table border=\"1\" class=\"dataframe\">\n",
       "  <thead>\n",
       "    <tr style=\"text-align: right;\">\n",
       "      <th>Previously_Insured</th>\n",
       "      <th>No</th>\n",
       "      <th>Yes</th>\n",
       "    </tr>\n",
       "    <tr>\n",
       "      <th>Response</th>\n",
       "      <th></th>\n",
       "      <th></th>\n",
       "    </tr>\n",
       "  </thead>\n",
       "  <tbody>\n",
       "    <tr>\n",
       "      <th>No</th>\n",
       "      <td>159929</td>\n",
       "      <td>174470</td>\n",
       "    </tr>\n",
       "    <tr>\n",
       "      <th>Yes</th>\n",
       "      <td>46552</td>\n",
       "      <td>158</td>\n",
       "    </tr>\n",
       "  </tbody>\n",
       "</table>\n",
       "</div>"
      ],
      "text/plain": [
       "Previously_Insured      No     Yes\n",
       "Response                          \n",
       "No                  159929  174470\n",
       "Yes                  46552     158"
      ]
     },
     "execution_count": 10,
     "metadata": {},
     "output_type": "execute_result"
    }
   ],
   "source": [
    "pd.crosstab(train_eda['Response'], train_eda['Previously_Insured'])"
   ]
  },
  {
   "cell_type": "code",
   "execution_count": 11,
   "metadata": {
    "_kg_hide-input": true,
    "execution": {
     "iopub.execute_input": "2020-09-26T10:14:46.709639Z",
     "iopub.status.busy": "2020-09-26T10:14:46.708815Z",
     "iopub.status.idle": "2020-09-26T10:14:46.983451Z",
     "shell.execute_reply": "2020-09-26T10:14:46.982821Z"
    },
    "papermill": {
     "duration": 0.325298,
     "end_time": "2020-09-26T10:14:46.983578",
     "exception": false,
     "start_time": "2020-09-26T10:14:46.658280",
     "status": "completed"
    },
    "tags": []
   },
   "outputs": [
    {
     "data": {
      "image/png": "[encoded data removed]",
      "text/plain": [
       "<Figure size 432x288 with 1 Axes>"
      ]
     },
     "metadata": {
      "needs_background": "light"
     },
     "output_type": "display_data"
    }
   ],
   "source": [
    "pd.crosstab(train_eda['Response'], train_eda['Previously_Insured']).plot(kind='bar');"
   ]
  },
  {
   "cell_type": "markdown",
   "metadata": {
    "papermill": {
     "duration": 0.045824,
     "end_time": "2020-09-26T10:14:47.075227",
     "exception": false,
     "start_time": "2020-09-26T10:14:47.029403",
     "status": "completed"
    },
    "tags": []
   },
   "source": [
    "* Those who already have an insurance are not interested. This was obvious man!\n",
    "\n",
    "\n",
    "## Vehicle Age"
   ]
  },
  {
   "cell_type": "code",
   "execution_count": 12,
   "metadata": {
    "_kg_hide-input": true,
    "execution": {
     "iopub.execute_input": "2020-09-26T10:14:47.279366Z",
     "iopub.status.busy": "2020-09-26T10:14:47.278469Z",
     "iopub.status.idle": "2020-09-26T10:14:47.360101Z",
     "shell.execute_reply": "2020-09-26T10:14:47.359461Z"
    },
    "papermill": {
     "duration": 0.239131,
     "end_time": "2020-09-26T10:14:47.360225",
     "exception": false,
     "start_time": "2020-09-26T10:14:47.121094",
     "status": "completed"
    },
    "tags": []
   },
   "outputs": [
    {
     "data": {
      "image/png": "[encoded data removed]",
      "text/plain": [
       "<Figure size 432x576 with 1 Axes>"
      ]
     },
     "metadata": {},
     "output_type": "display_data"
    }
   ],
   "source": [
    "plt.rcParams['figure.figsize']=(6,8)\n",
    "color = ['yellowgreen','gold',\"lightskyblue\"]\n",
    "train_eda['Vehicle_Age'].value_counts().plot.pie(y=\"Vehicle_Age\",colors=color,explode=(0.02,0,0.3),startangle=50,shadow=True,autopct=\"%0.1f%%\")\n",
    "plt.axis('on');"
   ]
  },
  {
   "cell_type": "code",
   "execution_count": 13,
   "metadata": {
    "_kg_hide-input": true,
    "execution": {
     "iopub.execute_input": "2020-09-26T10:14:47.487918Z",
     "iopub.status.busy": "2020-09-26T10:14:47.486912Z",
     "iopub.status.idle": "2020-09-26T10:14:48.016778Z",
     "shell.execute_reply": "2020-09-26T10:14:48.016009Z"
    },
    "papermill": {
     "duration": 0.608865,
     "end_time": "2020-09-26T10:14:48.016941",
     "exception": false,
     "start_time": "2020-09-26T10:14:47.408076",
     "status": "completed"
    },
    "tags": []
   },
   "outputs": [
    {
     "data": {
      "image/png": "[encoded data removed]",
      "text/plain": [
       "<Figure size 432x576 with 1 Axes>"
      ]
     },
     "metadata": {
      "needs_background": "light"
     },
     "output_type": "display_data"
    }
   ],
   "source": [
    "sns.countplot(train_eda['Vehicle_Age'],hue=train_eda['Response'],palette='autumn');"
   ]
  },
  {
   "cell_type": "markdown",
   "metadata": {
    "papermill": {
     "duration": 0.048167,
     "end_time": "2020-09-26T10:14:48.113909",
     "exception": false,
     "start_time": "2020-09-26T10:14:48.065742",
     "status": "completed"
    },
    "tags": []
   },
   "source": [
    "* More than half of the data (52%) has samples with vehicle age between 1-2 years.\n",
    "* We can't say from second graph that people with vehicle age between 1-2 years are more interested because other category '>2 years' has very few observations.\n",
    "\n",
    "\n",
    "## Vehicle Damage"
   ]
  },
  {
   "cell_type": "code",
   "execution_count": 14,
   "metadata": {
    "_kg_hide-input": true,
    "execution": {
     "iopub.execute_input": "2020-09-26T10:14:48.217805Z",
     "iopub.status.busy": "2020-09-26T10:14:48.217022Z",
     "iopub.status.idle": "2020-09-26T10:14:48.497254Z",
     "shell.execute_reply": "2020-09-26T10:14:48.496411Z"
    },
    "papermill": {
     "duration": 0.335192,
     "end_time": "2020-09-26T10:14:48.497394",
     "exception": false,
     "start_time": "2020-09-26T10:14:48.162202",
     "status": "completed"
    },
    "tags": []
   },
   "outputs": [
    {
     "data": {
      "image/png": "[encoded data removed]",
      "text/plain": [
       "<Figure size 432x576 with 1 Axes>"
      ]
     },
     "metadata": {
      "needs_background": "light"
     },
     "output_type": "display_data"
    }
   ],
   "source": [
    "pd.crosstab(train_eda['Response'], train_eda['Vehicle_Damage']).plot(kind='bar');"
   ]
  },
  {
   "cell_type": "markdown",
   "metadata": {
    "papermill": {
     "duration": 0.048911,
     "end_time": "2020-09-26T10:14:48.597657",
     "exception": false,
     "start_time": "2020-09-26T10:14:48.548746",
     "status": "completed"
    },
    "tags": []
   },
   "source": [
    "*  Customers who got his/her vehicle damaged in the past is more likely to be interested in insurance. May be because he has first-hand experience of its pros and cons.\n",
    "* Ah! I want a version of 'Prevention is better than cure' for this situation.\n",
    "\n",
    "## Annual Premium"
   ]
  },
  {
   "cell_type": "code",
   "execution_count": 15,
   "metadata": {
    "_kg_hide-input": true,
    "execution": {
     "iopub.execute_input": "2020-09-26T10:14:48.730183Z",
     "iopub.status.busy": "2020-09-26T10:14:48.729103Z",
     "iopub.status.idle": "2020-09-26T10:14:49.589920Z",
     "shell.execute_reply": "2020-09-26T10:14:49.589237Z"
    },
    "papermill": {
     "duration": 0.942146,
     "end_time": "2020-09-26T10:14:49.590051",
     "exception": false,
     "start_time": "2020-09-26T10:14:48.647905",
     "status": "completed"
    },
    "tags": []
   },
   "outputs": [
    {
     "name": "stdout",
     "output_type": "stream",
     "text": [
      "Annual Premium distribution according to Response\n"
     ]
    },
    {
     "data": {
      "image/png": "[encoded data removed]",
      "text/plain": [
       "<Figure size 919.75x216 with 1 Axes>"
      ]
     },
     "metadata": {
      "needs_background": "light"
     },
     "output_type": "display_data"
    }
   ],
   "source": [
    "print(\"Annual Premium distribution according to Response\")\n",
    "facetgrid = sns.FacetGrid(train_eda,hue=\"Response\",aspect = 4)\n",
    "facetgrid.map(sns.kdeplot,\"Annual_Premium\",shade = True)\n",
    "facetgrid.set(xlim = (0,train_eda[\"Annual_Premium\"].max()))\n",
    "facetgrid.add_legend();"
   ]
  },
  {
   "cell_type": "markdown",
   "metadata": {
    "papermill": {
     "duration": 0.051202,
     "end_time": "2020-09-26T10:14:49.693167",
     "exception": false,
     "start_time": "2020-09-26T10:14:49.641965",
     "status": "completed"
    },
    "tags": []
   },
   "source": [
    "* I don't think it gives much knowledge.\n",
    "* Outliers can be present in this feature.\n",
    "\n",
    "## PolicySalesChannel\n",
    "\n",
    "Anonymized Code for the channel of outreaching to the customer ie. Different Agents, Over Mail, Over Phone, In Person, etc."
   ]
  },
  {
   "cell_type": "code",
   "execution_count": 16,
   "metadata": {
    "_kg_hide-input": true,
    "execution": {
     "iopub.execute_input": "2020-09-26T10:14:49.828172Z",
     "iopub.status.busy": "2020-09-26T10:14:49.827384Z",
     "iopub.status.idle": "2020-09-26T10:14:50.683271Z",
     "shell.execute_reply": "2020-09-26T10:14:50.682647Z"
    },
    "papermill": {
     "duration": 0.938022,
     "end_time": "2020-09-26T10:14:50.683409",
     "exception": false,
     "start_time": "2020-09-26T10:14:49.745387",
     "status": "completed"
    },
    "tags": []
   },
   "outputs": [
    {
     "name": "stdout",
     "output_type": "stream",
     "text": [
      "Policy_Sales_Channel distribution according to Response\n"
     ]
    },
    {
     "data": {
      "image/png": "[encoded data removed]",
      "text/plain": [
       "<Figure size 919.75x216 with 1 Axes>"
      ]
     },
     "metadata": {
      "needs_background": "light"
     },
     "output_type": "display_data"
    }
   ],
   "source": [
    "print(\"Policy_Sales_Channel distribution according to Response\")\n",
    "facetgrid = sns.FacetGrid(train_eda,hue=\"Response\",aspect = 4)\n",
    "facetgrid.map(sns.kdeplot,\"Policy_Sales_Channel\",shade = True)\n",
    "facetgrid.set(xlim = (0,train_eda[\"Policy_Sales_Channel\"].max()))\n",
    "facetgrid.add_legend();"
   ]
  },
  {
   "cell_type": "markdown",
   "metadata": {
    "papermill": {
     "duration": 0.053609,
     "end_time": "2020-09-26T10:14:50.789980",
     "exception": false,
     "start_time": "2020-09-26T10:14:50.736371",
     "status": "completed"
    },
    "tags": []
   },
   "source": [
    "* This graph seems interesting. But to clearly extract insights we need meaning of these codes.\n",
    "\n",
    "## Vintage\n",
    "\n",
    "Number of Days, Customer has been associated with the company"
   ]
  },
  {
   "cell_type": "code",
   "execution_count": 17,
   "metadata": {
    "_kg_hide-input": true,
    "execution": {
     "iopub.execute_input": "2020-09-26T10:14:50.926372Z",
     "iopub.status.busy": "2020-09-26T10:14:50.925552Z",
     "iopub.status.idle": "2020-09-26T10:14:51.795597Z",
     "shell.execute_reply": "2020-09-26T10:14:51.794932Z"
    },
    "papermill": {
     "duration": 0.952979,
     "end_time": "2020-09-26T10:14:51.795726",
     "exception": false,
     "start_time": "2020-09-26T10:14:50.842747",
     "status": "completed"
    },
    "tags": []
   },
   "outputs": [
    {
     "name": "stdout",
     "output_type": "stream",
     "text": [
      "Vintage feature according to Response\n"
     ]
    },
    {
     "data": {
      "image/png": "[encoded data removed]",
      "text/plain": [
       "<Figure size 919.75x216 with 1 Axes>"
      ]
     },
     "metadata": {
      "needs_background": "light"
     },
     "output_type": "display_data"
    }
   ],
   "source": [
    "print(\"Vintage feature according to Response\")\n",
    "facetgrid = sns.FacetGrid(train_eda,hue=\"Response\",aspect = 4)\n",
    "facetgrid.map(sns.kdeplot,\"Vintage\",shade = True)\n",
    "facetgrid.set(xlim = (0,train_eda[\"Vintage\"].max()))\n",
    "facetgrid.add_legend();"
   ]
  },
  {
   "cell_type": "markdown",
   "metadata": {
    "papermill": {
     "duration": 0.054518,
     "end_time": "2020-09-26T10:14:51.905452",
     "exception": false,
     "start_time": "2020-09-26T10:14:51.850934",
     "status": "completed"
    },
    "tags": []
   },
   "source": [
    "* Our target variable is not much affected by this feature. It can be dropped."
   ]
  },
  {
   "cell_type": "code",
   "execution_count": 18,
   "metadata": {
    "_kg_hide-input": true,
    "execution": {
     "iopub.execute_input": "2020-09-26T10:14:52.020916Z",
     "iopub.status.busy": "2020-09-26T10:14:52.020105Z",
     "iopub.status.idle": "2020-09-26T10:14:52.397084Z",
     "shell.execute_reply": "2020-09-26T10:14:52.396245Z"
    },
    "papermill": {
     "duration": 0.437545,
     "end_time": "2020-09-26T10:14:52.397220",
     "exception": false,
     "start_time": "2020-09-26T10:14:51.959675",
     "status": "completed"
    },
    "tags": []
   },
   "outputs": [
    {
     "name": "stdout",
     "output_type": "stream",
     "text": [
      "Correlation matrix-\n"
     ]
    },
    {
     "data": {
      "image/png": "[encoded data removed]",
      "text/plain": [
       "<Figure size 576x432 with 2 Axes>"
      ]
     },
     "metadata": {
      "needs_background": "light"
     },
     "output_type": "display_data"
    }
   ],
   "source": [
    "print(\"Correlation matrix-\")\n",
    "plt.rcParams['figure.figsize']=(8,6)\n",
    "sns.heatmap(train.corr(),cmap='Spectral');"
   ]
  },
  {
   "cell_type": "code",
   "execution_count": 19,
   "metadata": {
    "_kg_hide-input": true,
    "execution": {
     "iopub.execute_input": "2020-09-26T10:14:52.518593Z",
     "iopub.status.busy": "2020-09-26T10:14:52.517695Z",
     "iopub.status.idle": "2020-09-26T10:14:52.608873Z",
     "shell.execute_reply": "2020-09-26T10:14:52.608059Z"
    },
    "papermill": {
     "duration": 0.154536,
     "end_time": "2020-09-26T10:14:52.609003",
     "exception": false,
     "start_time": "2020-09-26T10:14:52.454467",
     "status": "completed"
    },
    "tags": []
   },
   "outputs": [
    {
     "data": {
      "text/plain": [
       "Previously_Insured     -0.34\n",
       "Policy_Sales_Channel   -0.14\n",
       "id                     -0.00\n",
       "Vintage                -0.00\n",
       "Driving_License         0.01\n",
       "Region_Code             0.01\n",
       "Annual_Premium          0.02\n",
       "Age                     0.11\n",
       "Name: Response, dtype: float64"
      ]
     },
     "execution_count": 19,
     "metadata": {},
     "output_type": "execute_result"
    }
   ],
   "source": [
    "train.corr()[:-1]['Response'].sort_values().round(2)"
   ]
  },
  {
   "cell_type": "markdown",
   "metadata": {
    "papermill": {
     "duration": 0.056533,
     "end_time": "2020-09-26T10:14:52.723088",
     "exception": false,
     "start_time": "2020-09-26T10:14:52.666555",
     "status": "completed"
    },
    "tags": []
   },
   "source": [
    "I will remove least correlated features for modelling.\n",
    "\n",
    "# Creating classification Model"
   ]
  },
  {
   "cell_type": "code",
   "execution_count": 20,
   "metadata": {
    "execution": {
     "iopub.execute_input": "2020-09-26T10:14:52.843120Z",
     "iopub.status.busy": "2020-09-26T10:14:52.842306Z",
     "iopub.status.idle": "2020-09-26T10:14:52.888363Z",
     "shell.execute_reply": "2020-09-26T10:14:52.887578Z"
    },
    "papermill": {
     "duration": 0.108542,
     "end_time": "2020-09-26T10:14:52.888501",
     "exception": false,
     "start_time": "2020-09-26T10:14:52.779959",
     "status": "completed"
    },
    "tags": []
   },
   "outputs": [
    {
     "data": {
      "text/plain": [
       "0    334399\n",
       "1     46710\n",
       "Name: Response, dtype: int64"
      ]
     },
     "execution_count": 20,
     "metadata": {},
     "output_type": "execute_result"
    }
   ],
   "source": [
    "#creating a checkpoint\n",
    "df4model = train.copy()\n",
    "#dropping Vintage column as suggested by EDA\n",
    "df4model.drop(['id','Vintage'],axis=1,inplace=True)\n",
    "#checking target variable\n",
    "df4model.Response.value_counts()"
   ]
  },
  {
   "cell_type": "markdown",
   "metadata": {
    "papermill": {
     "duration": 0.056908,
     "end_time": "2020-09-26T10:14:53.002795",
     "exception": false,
     "start_time": "2020-09-26T10:14:52.945887",
     "status": "completed"
    },
    "tags": []
   },
   "source": [
    "To make this data balanced let's upsample the minority class using sklearn library resample.\n",
    "\n",
    "To prevent any data leakage I will first split into train and test subsets and then do upsampling as suggested by [@antaresnyc](https://www.kaggle.com/antaresnyc)."
   ]
  },
  {
   "cell_type": "code",
   "execution_count": 21,
   "metadata": {
    "execution": {
     "iopub.execute_input": "2020-09-26T10:14:53.127047Z",
     "iopub.status.busy": "2020-09-26T10:14:53.126253Z",
     "iopub.status.idle": "2020-09-26T10:14:53.268805Z",
     "shell.execute_reply": "2020-09-26T10:14:53.269376Z"
    },
    "papermill": {
     "duration": 0.207848,
     "end_time": "2020-09-26T10:14:53.269544",
     "exception": false,
     "start_time": "2020-09-26T10:14:53.061696",
     "status": "completed"
    },
    "tags": []
   },
   "outputs": [],
   "source": [
    "X_train, X_test, y_train, y_test = train_test_split(df4model.drop(['Response'], axis = 1), \n",
    "                                                    df4model['Response'], test_size = 0.2)"
   ]
  },
  {
   "cell_type": "code",
   "execution_count": 22,
   "metadata": {
    "execution": {
     "iopub.execute_input": "2020-09-26T10:14:53.391744Z",
     "iopub.status.busy": "2020-09-26T10:14:53.390961Z",
     "iopub.status.idle": "2020-09-26T10:14:53.402947Z",
     "shell.execute_reply": "2020-09-26T10:14:53.402061Z"
    },
    "papermill": {
     "duration": 0.075453,
     "end_time": "2020-09-26T10:14:53.403117",
     "exception": false,
     "start_time": "2020-09-26T10:14:53.327664",
     "status": "completed"
    },
    "tags": []
   },
   "outputs": [
    {
     "name": "stdout",
     "output_type": "stream",
     "text": [
      "Target variable disribution in train set: \n",
      "0    267482\n",
      "1     37405\n",
      "Name: Response, dtype: int64\n",
      "\n",
      "and in test set: \n",
      "0    66917\n",
      "1     9305\n",
      "Name: Response, dtype: int64\n"
     ]
    }
   ],
   "source": [
    "print(f\"Target variable disribution in train set: \\n{y_train.value_counts()}\\n\\nand in test set: \\n{y_test.value_counts()}\")"
   ]
  },
  {
   "cell_type": "markdown",
   "metadata": {
    "papermill": {
     "duration": 0.059443,
     "end_time": "2020-09-26T10:14:53.522479",
     "exception": false,
     "start_time": "2020-09-26T10:14:53.463036",
     "status": "completed"
    },
    "tags": []
   },
   "source": [
    "## Up-sampling"
   ]
  },
  {
   "cell_type": "code",
   "execution_count": 23,
   "metadata": {
    "execution": {
     "iopub.execute_input": "2020-09-26T10:14:53.649171Z",
     "iopub.status.busy": "2020-09-26T10:14:53.648387Z",
     "iopub.status.idle": "2020-09-26T10:14:54.078854Z",
     "shell.execute_reply": "2020-09-26T10:14:54.078090Z"
    },
    "papermill": {
     "duration": 0.497516,
     "end_time": "2020-09-26T10:14:54.078987",
     "exception": false,
     "start_time": "2020-09-26T10:14:53.581471",
     "status": "completed"
    },
    "tags": []
   },
   "outputs": [
    {
     "data": {
      "text/plain": [
       "1    267482\n",
       "0    267482\n",
       "Name: Response, dtype: int64"
      ]
     },
     "execution_count": 23,
     "metadata": {},
     "output_type": "execute_result"
    }
   ],
   "source": [
    "#combining train features and target\n",
    "df = pd.concat([X_train,y_train],axis=1)\n",
    "\n",
    "from sklearn.utils import resample,shuffle\n",
    "df_majority = df[df['Response']==0]\n",
    "df_minority = df[df['Response']==1]\n",
    "df_minority_upsampled = resample(df_minority,replace=True,n_samples=y_train.value_counts()[0],random_state = 123)\n",
    "balanced_df = pd.concat([df_minority_upsampled,df_majority])\n",
    "balanced_df = shuffle(balanced_df)\n",
    "balanced_df.Response.value_counts()"
   ]
  },
  {
   "cell_type": "markdown",
   "metadata": {
    "papermill": {
     "duration": 0.058223,
     "end_time": "2020-09-26T10:14:54.196546",
     "exception": false,
     "start_time": "2020-09-26T10:14:54.138323",
     "status": "completed"
    },
    "tags": []
   },
   "source": [
    "Now, I will convert categorical columns into numerical ones."
   ]
  },
  {
   "cell_type": "code",
   "execution_count": 24,
   "metadata": {
    "execution": {
     "iopub.execute_input": "2020-09-26T10:14:54.327397Z",
     "iopub.status.busy": "2020-09-26T10:14:54.326273Z",
     "iopub.status.idle": "2020-09-26T10:14:55.539809Z",
     "shell.execute_reply": "2020-09-26T10:14:55.538821Z"
    },
    "papermill": {
     "duration": 1.284072,
     "end_time": "2020-09-26T10:14:55.540080",
     "exception": false,
     "start_time": "2020-09-26T10:14:54.256008",
     "status": "completed"
    },
    "tags": []
   },
   "outputs": [
    {
     "data": {
      "text/html": [
       "<div>\n",
       "<style scoped>\n",
       "    .dataframe tbody tr th:only-of-type {\n",
       "        vertical-align: middle;\n",
       "    }\n",
       "\n",
       "    .dataframe tbody tr th {\n",
       "        vertical-align: top;\n",
       "    }\n",
       "\n",
       "    .dataframe thead th {\n",
       "        text-align: right;\n",
       "    }\n",
       "</style>\n",
       "<table border=\"1\" class=\"dataframe\">\n",
       "  <thead>\n",
       "    <tr style=\"text-align: right;\">\n",
       "      <th></th>\n",
       "      <th>&lt; 1 Year</th>\n",
       "      <th>&gt; 2 Years</th>\n",
       "      <th>Gender</th>\n",
       "      <th>Age</th>\n",
       "      <th>Driving_License</th>\n",
       "      <th>Region_Code</th>\n",
       "      <th>Previously_Insured</th>\n",
       "      <th>Vehicle_Damage</th>\n",
       "      <th>Annual_Premium</th>\n",
       "      <th>Policy_Sales_Channel</th>\n",
       "      <th>Response</th>\n",
       "    </tr>\n",
       "  </thead>\n",
       "  <tbody>\n",
       "    <tr>\n",
       "      <th>345342</th>\n",
       "      <td>1</td>\n",
       "      <td>0</td>\n",
       "      <td>1.0</td>\n",
       "      <td>23</td>\n",
       "      <td>1</td>\n",
       "      <td>16.0</td>\n",
       "      <td>1</td>\n",
       "      <td>0.0</td>\n",
       "      <td>32018.0</td>\n",
       "      <td>152.0</td>\n",
       "      <td>0</td>\n",
       "    </tr>\n",
       "    <tr>\n",
       "      <th>262861</th>\n",
       "      <td>1</td>\n",
       "      <td>0</td>\n",
       "      <td>0.0</td>\n",
       "      <td>24</td>\n",
       "      <td>1</td>\n",
       "      <td>10.0</td>\n",
       "      <td>0</td>\n",
       "      <td>1.0</td>\n",
       "      <td>38521.0</td>\n",
       "      <td>152.0</td>\n",
       "      <td>1</td>\n",
       "    </tr>\n",
       "    <tr>\n",
       "      <th>97787</th>\n",
       "      <td>0</td>\n",
       "      <td>0</td>\n",
       "      <td>0.0</td>\n",
       "      <td>40</td>\n",
       "      <td>1</td>\n",
       "      <td>8.0</td>\n",
       "      <td>0</td>\n",
       "      <td>1.0</td>\n",
       "      <td>35629.0</td>\n",
       "      <td>124.0</td>\n",
       "      <td>1</td>\n",
       "    </tr>\n",
       "    <tr>\n",
       "      <th>371525</th>\n",
       "      <td>0</td>\n",
       "      <td>1</td>\n",
       "      <td>1.0</td>\n",
       "      <td>45</td>\n",
       "      <td>1</td>\n",
       "      <td>15.0</td>\n",
       "      <td>0</td>\n",
       "      <td>1.0</td>\n",
       "      <td>28305.0</td>\n",
       "      <td>124.0</td>\n",
       "      <td>1</td>\n",
       "    </tr>\n",
       "    <tr>\n",
       "      <th>318051</th>\n",
       "      <td>0</td>\n",
       "      <td>0</td>\n",
       "      <td>1.0</td>\n",
       "      <td>41</td>\n",
       "      <td>1</td>\n",
       "      <td>28.0</td>\n",
       "      <td>0</td>\n",
       "      <td>1.0</td>\n",
       "      <td>49161.0</td>\n",
       "      <td>30.0</td>\n",
       "      <td>1</td>\n",
       "    </tr>\n",
       "  </tbody>\n",
       "</table>\n",
       "</div>"
      ],
      "text/plain": [
       "        < 1 Year  > 2 Years  Gender  Age  Driving_License  Region_Code  \\\n",
       "345342         1          0     1.0   23                1         16.0   \n",
       "262861         1          0     0.0   24                1         10.0   \n",
       "97787          0          0     0.0   40                1          8.0   \n",
       "371525         0          1     1.0   45                1         15.0   \n",
       "318051         0          0     1.0   41                1         28.0   \n",
       "\n",
       "        Previously_Insured  Vehicle_Damage  Annual_Premium  \\\n",
       "345342                   1             0.0         32018.0   \n",
       "262861                   0             1.0         38521.0   \n",
       "97787                    0             1.0         35629.0   \n",
       "371525                   0             1.0         28305.0   \n",
       "318051                   0             1.0         49161.0   \n",
       "\n",
       "        Policy_Sales_Channel  Response  \n",
       "345342                 152.0         0  \n",
       "262861                 152.0         1  \n",
       "97787                  124.0         1  \n",
       "371525                 124.0         1  \n",
       "318051                  30.0         1  "
      ]
     },
     "execution_count": 24,
     "metadata": {},
     "output_type": "execute_result"
    }
   ],
   "source": [
    "from sklearn.preprocessing import OrdinalEncoder\n",
    "encoder= OrdinalEncoder()\n",
    "cat_cols=['Gender','Vehicle_Damage']\n",
    "balanced_df[cat_cols] = encoder.fit_transform(balanced_df[cat_cols])\n",
    "X_test[cat_cols] = encoder.transform(X_test[cat_cols])\n",
    "\n",
    "dummy = pd.get_dummies(balanced_df['Vehicle_Age'],drop_first=True)\n",
    "features = pd.concat([dummy,balanced_df],axis=1)\n",
    "features.drop('Vehicle_Age',axis=1,inplace=True)\n",
    "\n",
    "features.head()"
   ]
  },
  {
   "cell_type": "code",
   "execution_count": 25,
   "metadata": {
    "_kg_hide-input": true,
    "_kg_hide-output": true,
    "execution": {
     "iopub.execute_input": "2020-09-26T10:14:55.676220Z",
     "iopub.status.busy": "2020-09-26T10:14:55.675399Z",
     "iopub.status.idle": "2020-09-26T10:14:55.772957Z",
     "shell.execute_reply": "2020-09-26T10:14:55.772116Z"
    },
    "papermill": {
     "duration": 0.172199,
     "end_time": "2020-09-26T10:14:55.773088",
     "exception": false,
     "start_time": "2020-09-26T10:14:55.600889",
     "status": "completed"
    },
    "tags": []
   },
   "outputs": [],
   "source": [
    "#to get uniform output\n",
    "features = features.astype('float64')\n",
    "X_train = features.drop('Response',axis=1)\n",
    "y_train = features['Response']\n",
    "\n",
    "#creating dummies in test set\n",
    "dummy1 = pd.get_dummies(X_test['Vehicle_Age'],drop_first=True)\n",
    "X_test = pd.concat([dummy1,X_test],axis=1)\n",
    "X_test.drop('Vehicle_Age',axis=1,inplace=True)"
   ]
  },
  {
   "cell_type": "markdown",
   "metadata": {
    "papermill": {
     "duration": 0.060297,
     "end_time": "2020-09-26T10:14:55.894702",
     "exception": false,
     "start_time": "2020-09-26T10:14:55.834405",
     "status": "completed"
    },
    "tags": []
   },
   "source": [
    "# Logistic Regression"
   ]
  },
  {
   "cell_type": "code",
   "execution_count": 26,
   "metadata": {
    "execution": {
     "iopub.execute_input": "2020-09-26T10:14:56.035189Z",
     "iopub.status.busy": "2020-09-26T10:14:56.034332Z",
     "iopub.status.idle": "2020-09-26T10:14:57.869819Z",
     "shell.execute_reply": "2020-09-26T10:14:57.869214Z"
    },
    "papermill": {
     "duration": 1.908916,
     "end_time": "2020-09-26T10:14:57.869974",
     "exception": false,
     "start_time": "2020-09-26T10:14:55.961058",
     "status": "completed"
    },
    "tags": []
   },
   "outputs": [
    {
     "name": "stdout",
     "output_type": "stream",
     "text": [
      "Accuracy score is 63.0\n",
      "ROC-AUC score is 57.99999999999999\n"
     ]
    }
   ],
   "source": [
    "logisticRegression = LogisticRegression(max_iter = 10000)\n",
    "logisticRegression.fit(X_train, y_train)\n",
    "predictions = logisticRegression.predict(X_test)\n",
    "print(f\"Accuracy score is {100*accuracy_score(y_test,predictions).round(2)}\\nROC-AUC score is {100*roc_auc_score(y_test,predictions).round(2)}\")"
   ]
  },
  {
   "cell_type": "markdown",
   "metadata": {
    "papermill": {
     "duration": 0.060479,
     "end_time": "2020-09-26T10:14:57.991451",
     "exception": false,
     "start_time": "2020-09-26T10:14:57.930972",
     "status": "completed"
    },
    "tags": []
   },
   "source": [
    "# Random Forest"
   ]
  },
  {
   "cell_type": "code",
   "execution_count": 27,
   "metadata": {
    "execution": {
     "iopub.execute_input": "2020-09-26T10:14:58.120625Z",
     "iopub.status.busy": "2020-09-26T10:14:58.119696Z",
     "iopub.status.idle": "2020-09-26T10:17:22.362546Z",
     "shell.execute_reply": "2020-09-26T10:17:22.363569Z"
    },
    "papermill": {
     "duration": 144.311356,
     "end_time": "2020-09-26T10:17:22.363816",
     "exception": false,
     "start_time": "2020-09-26T10:14:58.052460",
     "status": "completed"
    },
    "tags": []
   },
   "outputs": [
    {
     "name": "stdout",
     "output_type": "stream",
     "text": [
      "Accuracy score is 83.0\n",
      "ROC-AUC score is 62.0\n"
     ]
    }
   ],
   "source": [
    "from sklearn.ensemble import RandomForestClassifier\n",
    "rfc = RandomForestClassifier(n_estimators=100)\n",
    "rfc.fit(X_train, y_train)\n",
    "rfc_pred = rfc.predict(X_test)\n",
    "print(f\"Accuracy score is {100*accuracy_score(y_test,rfc_pred).round(2)}\\nROC-AUC score is {100*roc_auc_score(y_test,rfc_pred).round(2)}\")"
   ]
  },
  {
   "cell_type": "code",
   "execution_count": 28,
   "metadata": {
    "execution": {
     "iopub.execute_input": "2020-09-26T10:17:22.497436Z",
     "iopub.status.busy": "2020-09-26T10:17:22.496154Z",
     "iopub.status.idle": "2020-09-26T10:17:25.168252Z",
     "shell.execute_reply": "2020-09-26T10:17:25.167316Z"
    },
    "papermill": {
     "duration": 2.742033,
     "end_time": "2020-09-26T10:17:25.168401",
     "exception": false,
     "start_time": "2020-09-26T10:17:22.426368",
     "status": "completed"
    },
    "tags": []
   },
   "outputs": [
    {
     "name": "stdout",
     "output_type": "stream",
     "text": [
      "AUC score after taking probabilities predictions and not classes predictions is\n"
     ]
    },
    {
     "data": {
      "text/plain": [
       "0.8109319871962457"
      ]
     },
     "execution_count": 28,
     "metadata": {},
     "output_type": "execute_result"
    }
   ],
   "source": [
    "rfc_preds = rfc.predict_proba(X_test)\n",
    "print(\"AUC score after taking probabilities predictions and not classes predictions is\")\n",
    "roc_auc_score(y_test, rfc_preds[:,1], average = 'weighted')"
   ]
  },
  {
   "cell_type": "code",
   "execution_count": 29,
   "metadata": {
    "execution": {
     "iopub.execute_input": "2020-09-26T10:17:25.308409Z",
     "iopub.status.busy": "2020-09-26T10:17:25.307526Z",
     "iopub.status.idle": "2020-09-26T10:17:51.192953Z",
     "shell.execute_reply": "2020-09-26T10:17:51.193756Z"
    },
    "papermill": {
     "duration": 25.960064,
     "end_time": "2020-09-26T10:17:51.193969",
     "exception": false,
     "start_time": "2020-09-26T10:17:25.233905",
     "status": "completed"
    },
    "tags": []
   },
   "outputs": [
    {
     "name": "stdout",
     "output_type": "stream",
     "text": [
      "Accuracy score is 72.0\n",
      "ROC-AUC score is 80.0\n"
     ]
    }
   ],
   "source": [
    "X_train.columns= ['less than 1 Year','greater than 2 Years', 'Gender', 'Age','Driving_License',\n",
    "                  'Region_Code', 'Previously_Insured', 'Vehicle_Damage', 'Annual_Premium','Policy_Sales_Channel']\n",
    "X_test.columns= ['less than 1 Year','greater than 2 Years', 'Gender', 'Age','Driving_License',\n",
    "                  'Region_Code', 'Previously_Insured', 'Vehicle_Damage', 'Annual_Premium','Policy_Sales_Channel']\n",
    "\n",
    "from xgboost import XGBClassifier\n",
    "xgb = XGBClassifier()\n",
    "xgb.fit(X_train, y_train)\n",
    "xgb_pred = xgb.predict(X_test)\n",
    "print(f\"Accuracy score is {100*accuracy_score(y_test,xgb_pred).round(2)}\\nROC-AUC score is {100*roc_auc_score(y_test,xgb_pred).round(2)}\")"
   ]
  },
  {
   "cell_type": "code",
   "execution_count": 30,
   "metadata": {
    "execution": {
     "iopub.execute_input": "2020-09-26T10:17:51.353878Z",
     "iopub.status.busy": "2020-09-26T10:17:51.353111Z",
     "iopub.status.idle": "2020-09-26T10:17:51.562044Z",
     "shell.execute_reply": "2020-09-26T10:17:51.563045Z"
    },
    "papermill": {
     "duration": 0.288357,
     "end_time": "2020-09-26T10:17:51.563234",
     "exception": false,
     "start_time": "2020-09-26T10:17:51.274877",
     "status": "completed"
    },
    "tags": []
   },
   "outputs": [
    {
     "data": {
      "text/plain": [
       "0.85532524564243"
      ]
     },
     "execution_count": 30,
     "metadata": {},
     "output_type": "execute_result"
    }
   ],
   "source": [
    "xgb_preds = xgb.predict_proba(X_test)\n",
    "roc_auc_score(y_test, xgb_preds[:,1], average = 'weighted')"
   ]
  }
 ],
 "metadata": {
  "kernelspec": {
   "display_name": "Python 3",
   "language": "python",
   "name": "python3"
  },
  "language_info": {
   "codemirror_mode": {
    "name": "ipython",
    "version": 3
   },
   "file_extension": ".py",
   "mimetype": "text/x-python",
   "name": "python",
   "nbconvert_exporter": "python",
   "pygments_lexer": "ipython3",
   "version": "3.7.6"
  },
  "papermill": {
   "duration": 197.468942,
   "end_time": "2020-09-26T10:17:51.773068",
   "environment_variables": {},
   "exception": null,
   "input_path": "__notebook__.ipynb",
   "output_path": "__notebook__.ipynb",
   "parameters": {},
   "start_time": "2020-09-26T10:14:34.304126",
   "version": "2.1.0"
  }
 },
 "nbformat": 4,
 "nbformat_minor": 4
}
